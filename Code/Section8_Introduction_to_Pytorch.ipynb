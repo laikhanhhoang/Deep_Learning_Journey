{
 "cells": [
  {
   "cell_type": "code",
   "execution_count": 1,
   "id": "2fcc816d",
   "metadata": {},
   "outputs": [],
   "source": [
    "import torch"
   ]
  },
  {
   "cell_type": "markdown",
   "id": "ada4dcd6",
   "metadata": {},
   "source": [
    "# Summary\n",
    "\n",
    "###  1. Introduction to Pytorch\n",
    "\n",
    "- `-1`: Automatically infers the remaining dimension when one size is known.\n",
    "- `rand`, `randn`: Initialize tensors; `rand` samples from (0, 1), `randn` from 𝒩(0, 1).\n",
    "- `randint(a, b, (c, d))`: Creates a c × d tensor with values in [a, b).\n",
    "- `zeros`, `ones`, `cat`: Common functions for tensor initialization and concatenation.\n",
    "- `randn_like(A, dtype=d)`: Creates a tensor with the same shape as A and specified dtype.\n",
    "- `.numpy()` and `from_numpy()`: Convert between Torch and NumPy; both share memory.\n",
    "- Dimensions `(0,1,2)`: For a tensor of shape (a, b, c), `unsqueeze(dim)` adds a size-1 dimension at that position.\n",
    "- `requires_grad` and `requires_grad_()`: Check or set whether a tensor should track gradients.\n",
    "- `detach()` and `no_grad()`: Prevent a tensor from tracking gradients or computation history.\n",
    "\n",
    "### 2,3. Loss Function and Weight Initialization\n",
    "\n",
    "Learning how to use docs.pytorch website"
   ]
  },
  {
   "cell_type": "markdown",
   "id": "25572f45",
   "metadata": {},
   "source": [
    "# I. Introduction to Pytorch"
   ]
  },
  {
   "cell_type": "markdown",
   "id": "e6d55fd3",
   "metadata": {},
   "source": [
    "## Torch Tensors"
   ]
  },
  {
   "cell_type": "code",
   "execution_count": 2,
   "id": "c787a506",
   "metadata": {},
   "outputs": [
    {
     "name": "stdout",
     "output_type": "stream",
     "text": [
      "tensor([2, 2, 1])\n",
      "tensor([[2, 1, 4],\n",
      "        [3, 5, 4]])\n",
      "torch.Size([3]) torch.Size([2, 3]) torch.Size([3]) torch.Size([2, 3]) 2\n"
     ]
    }
   ],
   "source": [
    "a = torch.tensor([2,2,1])\n",
    "b = torch.tensor([[2,1,4],[3,5,4]])\n",
    "print(a)\n",
    "print(b)\n",
    "print(a.shape, b.shape, a.size(), b.size(), b.shape[0])"
   ]
  },
  {
   "cell_type": "code",
   "execution_count": 3,
   "id": "bbabe869",
   "metadata": {},
   "outputs": [
    {
     "name": "stdout",
     "output_type": "stream",
     "text": [
      "tensor([[1., 2., 3.],\n",
      "        [4., 5., 6.]])\n",
      "tensor([[ 7.,  8.,  9.],\n",
      "        [10., 11., 12.],\n",
      "        [13., 14., 15.],\n",
      "        [16., 17., 18.]], dtype=torch.float64)\n",
      "torch.float32 torch.float64\n",
      "tensor(3.5000)\n",
      "tensor(1.8708)\n",
      "tensor(12.5000, dtype=torch.float64)\n"
     ]
    }
   ],
   "source": [
    "c = torch.FloatTensor([[1,2,3],[4,5,6]])\n",
    "d = torch.DoubleTensor([[7,8,9],[10,11,12],[13,14,15],[16,17,18]])\n",
    "print(c)\n",
    "print(d)\n",
    "print(c.dtype, d.dtype)\n",
    "print(c.mean())\n",
    "print(c.std())\n",
    "print(d.mean())"
   ]
  },
  {
   "cell_type": "code",
   "execution_count": 4,
   "id": "4d2aa8e5",
   "metadata": {},
   "outputs": [
    {
     "name": "stdout",
     "output_type": "stream",
     "text": [
      "tensor([[2],\n",
      "        [1],\n",
      "        [4],\n",
      "        [3],\n",
      "        [5],\n",
      "        [4]])\n",
      "tensor([[2, 1, 4, 3, 5, 4]])\n",
      "tensor([[2, 1],\n",
      "        [4, 3],\n",
      "        [5, 4]])\n",
      "tensor([[2, 1, 4],\n",
      "        [3, 5, 4]])\n",
      "tensor([[2, 1, 4, 3, 5, 4]]) torch.Size([1, 6]) torch.Size([1, 6])\n"
     ]
    }
   ],
   "source": [
    "print(b.view(-1,1))\n",
    "print(b.view(1,-1))\n",
    "print(b.view(-1,2))\n",
    "print(b.view(2,-1))\n",
    "b=b.view(1,-1)\n",
    "print(b, b.shape, b.size())"
   ]
  },
  {
   "cell_type": "code",
   "execution_count": 10,
   "id": "ca102f2a",
   "metadata": {},
   "outputs": [
    {
     "name": "stdout",
     "output_type": "stream",
     "text": [
      "tensor([[[ 1.0547,  0.2128, -0.1074, -1.1657],\n",
      "         [ 1.0220, -0.0675,  0.4466, -0.9165],\n",
      "         [ 0.7449, -0.5138, -0.9045, -0.0879]],\n",
      "\n",
      "        [[-1.7920, -0.8415, -0.4558,  0.5264],\n",
      "         [-0.9851,  0.0352, -0.2334, -0.3798],\n",
      "         [ 0.1845,  0.1012, -1.6273, -1.6339]]])\n",
      "\n",
      "\n",
      "tensor([[ 1.0547,  0.2128, -0.1074, -1.1657,  1.0220, -0.0675,  0.4466, -0.9165,\n",
      "          0.7449, -0.5138, -0.9045, -0.0879],\n",
      "        [-1.7920, -0.8415, -0.4558,  0.5264, -0.9851,  0.0352, -0.2334, -0.3798,\n",
      "          0.1845,  0.1012, -1.6273, -1.6339]])\n",
      "tensor([[ 1.0547,  0.2128, -0.1074, -1.1657,  1.0220, -0.0675,  0.4466, -0.9165,\n",
      "          0.7449, -0.5138, -0.9045, -0.0879],\n",
      "        [-1.7920, -0.8415, -0.4558,  0.5264, -0.9851,  0.0352, -0.2334, -0.3798,\n",
      "          0.1845,  0.1012, -1.6273, -1.6339]])\n"
     ]
    }
   ],
   "source": [
    "three_dim  = torch.randn(2, 3, 4)\n",
    "print(three_dim)\n",
    "print(\"\\n\")\n",
    "print(three_dim.view(2,12))\n",
    "print(three_dim.view(2,-1))"
   ]
  },
  {
   "cell_type": "code",
   "execution_count": 11,
   "id": "aa229cb6",
   "metadata": {},
   "outputs": [
    {
     "name": "stdout",
     "output_type": "stream",
     "text": [
      "tensor([[0.5006, 0.4586, 0.6339, 0.4212],\n",
      "        [0.0563, 0.9191, 0.0511, 0.1670],\n",
      "        [0.5224, 0.6547, 0.9104, 0.3019],\n",
      "        [0.4329, 0.7518, 0.1255, 0.8261]])\n",
      "tensor([[-0.0387,  0.3581,  0.5235,  0.4341],\n",
      "        [-0.8133, -0.5113, -1.3985, -0.7776],\n",
      "        [-0.1521, -1.1452, -1.5790, -2.6286],\n",
      "        [ 0.9999,  1.0004, -1.5273, -0.7699]])\n",
      "torch.float32\n"
     ]
    }
   ],
   "source": [
    "r1 = torch.rand(4,4) # random numbers between 0 and 1\n",
    "r2 = torch.randn(4,4) # random numbers ~ N(0,1)\n",
    "print(r1)\n",
    "print(r2)\n",
    "print(r2.dtype)"
   ]
  },
  {
   "cell_type": "code",
   "execution_count": 7,
   "id": "c681394b",
   "metadata": {},
   "outputs": [
    {
     "name": "stdout",
     "output_type": "stream",
     "text": [
      "tensor([6, 8, 7, 8, 7])\n",
      "torch.int64\n",
      "tensor([[6, 9, 6],\n",
      "        [7, 6, 9],\n",
      "        [9, 6, 9]])\n",
      "5\n",
      "9\n"
     ]
    }
   ],
   "source": [
    "int_arr1 = torch.randint(6,10,(5,)) # array of random integers from 6 to 9\n",
    "int_arr2 = torch.randint(6,10,(3,3)) # 3x3 matrix of random integers from 6 to 9\n",
    "print(int_arr1)\n",
    "print(int_arr1.dtype)\n",
    "print(int_arr2)\n",
    "print(torch.numel(int_arr1))  #numel = number of elements\n",
    "print(torch.numel(int_arr2))"
   ]
  },
  {
   "cell_type": "code",
   "execution_count": null,
   "id": "74a989d1",
   "metadata": {},
   "outputs": [
    {
     "name": "stdout",
     "output_type": "stream",
     "text": [
      "tensor([[0, 0, 0],\n",
      "        [0, 0, 0],\n",
      "        [0, 0, 0]])\n",
      "torch.int64\n",
      "tensor([[1., 1., 1.],\n",
      "        [1., 1., 1.],\n",
      "        [1., 1., 1.]])\n",
      "torch.float32\n"
     ]
    }
   ],
   "source": [
    "z = torch.zeros(3,3,dtype=torch.long)\n",
    "o = torch.ones(3,3)\n",
    "print(z)\n",
    "print(z.dtype)\n",
    "print(o)\n",
    "print(o.dtype)"
   ]
  },
  {
   "cell_type": "code",
   "execution_count": null,
   "id": "980948e5",
   "metadata": {},
   "outputs": [
    {
     "name": "stdout",
     "output_type": "stream",
     "text": [
      "tensor([[-0.9063,  0.1151,  0.0742, -1.5300],\n",
      "        [-0.1958,  0.2627,  0.0668, -0.7250],\n",
      "        [-0.6898, -0.4778, -0.7281, -0.6101],\n",
      "        [ 0.4747,  0.8363,  0.2570, -1.0331]], dtype=torch.float64)\n",
      "tensor([[-0.0387,  0.3581,  0.5235,  0.4341],\n",
      "        [-0.8133, -0.5113, -1.3985, -0.7776],\n",
      "        [-0.1521, -1.1452, -1.5790, -2.6286],\n",
      "        [ 0.9999,  1.0004, -1.5273, -0.7699]])\n",
      "torch.float64 torch.float32\n",
      "\n",
      "\n",
      "tensor([[ 0.5847,  0.4807,  0.6058,  1.1773],\n",
      "        [-0.7628, -0.4396, -1.3566, -0.7574],\n",
      "        [ 0.0161, -0.7525, -1.1123, -1.6619],\n",
      "        [ 1.9598,  1.5118, -1.3447, -0.5060]])\n",
      "\n",
      "\n",
      "tensor([[ 0.5847,  0.4807,  0.6058,  1.1773],\n",
      "        [-0.7628, -0.4396, -1.3566, -0.7574],\n",
      "        [ 0.0161, -0.7525, -1.1123, -1.6619],\n",
      "        [ 1.9598,  1.5118, -1.3447, -0.5060]])\n"
     ]
    }
   ],
   "source": [
    "r2_like = torch.randn_like(r2, dtype = torch.double)\n",
    "print(r2_like)\n",
    "print(r2)\n",
    "print(r2_like.dtype, r2.dtype)\n",
    "print(\"\\n\")\n",
    "r = torch.rand(4,4)\n",
    "add_result = torch.add(r,r2)\n",
    "print(add_result)\n",
    "print(\"\\n\")\n",
    "r2.add_(r) # no need r2 = torch.add(r,r2)\n",
    "print(r2)"
   ]
  },
  {
   "cell_type": "code",
   "execution_count": 28,
   "id": "ac72af50",
   "metadata": {},
   "outputs": [
    {
     "name": "stdout",
     "output_type": "stream",
     "text": [
      "tensor([ 0.5847, -0.7628,  0.0161,  1.9598])\n",
      "tensor([[ 0.5847,  0.4807],\n",
      "        [-0.7628, -0.4396],\n",
      "        [ 0.0161, -0.7525],\n",
      "        [ 1.9598,  1.5118]])\n",
      "tensor([[ 0.5847,  0.4807,  0.6058,  1.1773],\n",
      "        [-0.7628, -0.4396, -1.3566, -0.7574],\n",
      "        [ 0.0161, -0.7525, -1.1123, -1.6619]])\n",
      "tensor(-1.6619)\n"
     ]
    }
   ],
   "source": [
    "print(r2[:,0])\n",
    "print(r2[:,:2])\n",
    "print(r2[:3,:])\n",
    "num_ten = r2[2,3]\n",
    "print(num_ten)"
   ]
  },
  {
   "cell_type": "markdown",
   "id": "db81bbe1",
   "metadata": {},
   "source": [
    "## Numpy Bridge"
   ]
  },
  {
   "cell_type": "code",
   "execution_count": 29,
   "id": "bda9256d",
   "metadata": {},
   "outputs": [],
   "source": [
    "import numpy as np"
   ]
  },
  {
   "cell_type": "code",
   "execution_count": 33,
   "id": "5e1956d3",
   "metadata": {},
   "outputs": [
    {
     "name": "stdout",
     "output_type": "stream",
     "text": [
      "tensor([1., 1., 1., 1., 1.])\n",
      "[1. 1. 1. 1. 1.]\n",
      "tensor([2., 2., 2., 2., 2.])\n",
      "[2. 2. 2. 2. 2.]\n"
     ]
    }
   ],
   "source": [
    "a = torch.ones(5) # array of 1\n",
    "print(a)\n",
    "b = a.numpy()\n",
    "print(b)\n",
    "\n",
    "a.add_(1)\n",
    "print(a)\n",
    "print(b)"
   ]
  },
  {
   "cell_type": "code",
   "execution_count": 34,
   "id": "e12d3f8f",
   "metadata": {},
   "outputs": [
    {
     "name": "stdout",
     "output_type": "stream",
     "text": [
      "[2. 2. 2. 2. 2.]\n",
      "tensor([2., 2., 2., 2., 2.], dtype=torch.float64)\n"
     ]
    }
   ],
   "source": [
    "a = np.ones(5)\n",
    "b = torch.from_numpy(a)\n",
    "np.add(a,1,out=a)\n",
    "print(a)\n",
    "print(b)"
   ]
  },
  {
   "cell_type": "code",
   "execution_count": 38,
   "id": "c99969a2",
   "metadata": {},
   "outputs": [
    {
     "name": "stdout",
     "output_type": "stream",
     "text": [
      "False\n"
     ]
    }
   ],
   "source": [
    "CUDA = torch.cuda.is_available()\n",
    "print(CUDA)\n",
    "if CUDA:\n",
    "    add_result = add_result.cuda()\n",
    "    print(add_result)"
   ]
  },
  {
   "cell_type": "code",
   "execution_count": 39,
   "id": "00d33fcc",
   "metadata": {},
   "outputs": [
    {
     "name": "stdout",
     "output_type": "stream",
     "text": [
      "[2, 3, 4, 1]\n",
      "tensor([2, 3, 4, 1]) torch.int64\n"
     ]
    }
   ],
   "source": [
    "a = [2,3,4,1]\n",
    "print(a)\n",
    "to_list = torch.tensor(a)\n",
    "print(to_list, to_list.dtype)"
   ]
  },
  {
   "cell_type": "code",
   "execution_count": 40,
   "id": "08d210b9",
   "metadata": {},
   "outputs": [
    {
     "name": "stdout",
     "output_type": "stream",
     "text": [
      "tensor([[1., 2.],\n",
      "        [3., 4.],\n",
      "        [5., 6.],\n",
      "        [7., 8.]]) torch.float32\n"
     ]
    }
   ],
   "source": [
    "data = [[1.,2.], [3.,4.],\n",
    "         [5.,6.],[7.,8.]]\n",
    "T= torch.tensor(data)\n",
    "print(T,T.dtype)"
   ]
  },
  {
   "cell_type": "markdown",
   "id": "88850f6d",
   "metadata": {},
   "source": [
    "## Tensor Concatenation"
   ]
  },
  {
   "cell_type": "code",
   "execution_count": 52,
   "id": "36242fd5",
   "metadata": {},
   "outputs": [
    {
     "name": "stdout",
     "output_type": "stream",
     "text": [
      "tensor([[-1.6152, -0.3358, -0.8653,  1.1371, -0.4270],\n",
      "        [-1.0304, -0.5375,  0.5854, -0.0241, -0.3972]])\n",
      "tensor([[-1.0291,  0.7554,  0.5142, -0.5089,  0.4427],\n",
      "        [ 0.3992,  1.1847, -0.0761, -1.1807,  1.0904],\n",
      "        [-0.9484,  0.0158,  1.0841, -1.3088, -0.9169]])\n",
      "\n",
      "\n",
      "tensor([[-1.6152, -0.3358, -0.8653,  1.1371, -0.4270],\n",
      "        [-1.0304, -0.5375,  0.5854, -0.0241, -0.3972],\n",
      "        [-1.0291,  0.7554,  0.5142, -0.5089,  0.4427],\n",
      "        [ 0.3992,  1.1847, -0.0761, -1.1807,  1.0904],\n",
      "        [-0.9484,  0.0158,  1.0841, -1.3088, -0.9169]])\n",
      "\n",
      "\n",
      "tensor([[ 0.1022,  1.1862, -1.0037],\n",
      "        [-0.2824, -0.7101,  1.0271]])\n",
      "tensor([[ 0.2717, -0.1137, -0.2052,  0.3721,  0.3311],\n",
      "        [-0.4721,  0.4227, -0.8319,  0.5296, -0.4055]])\n",
      "\n",
      "Need 1:\n",
      " tensor([[ 0.1022,  1.1862, -1.0037,  0.2717, -0.1137, -0.2052,  0.3721,  0.3311],\n",
      "        [-0.2824, -0.7101,  1.0271, -0.4721,  0.4227, -0.8319,  0.5296, -0.4055]])\n"
     ]
    }
   ],
   "source": [
    "first_1 = torch.randn(2,5)\n",
    "print(first_1)\n",
    "second_1 = torch.randn(3,5)\n",
    "print(second_1)\n",
    "con_1 = torch.cat([first_1, second_1])\n",
    "print('\\n')\n",
    "print(con_1)\n",
    "print('\\n')\n",
    "\n",
    "first_2 = torch.randn(2,3)\n",
    "print(first_2)\n",
    "second_2 = torch.randn(2,5)\n",
    "print(second_2)\n",
    "\n",
    "try:\n",
    "    con_2 = torch.cat([first_2, second_2])  \n",
    "    print(\"\\nNo need 1:\", con_2)\n",
    "except RuntimeError:\n",
    "    con_2 = torch.cat([first_2, second_2], dim=1)\n",
    "    print(\"\\nNeed 1:\\n\", con_2)\n"
   ]
  },
  {
   "cell_type": "markdown",
   "id": "f5f186f6",
   "metadata": {},
   "source": [
    "## Adding Dimensions to Tensors"
   ]
  },
  {
   "cell_type": "code",
   "execution_count": 56,
   "id": "b9427762",
   "metadata": {},
   "outputs": [
    {
     "name": "stdout",
     "output_type": "stream",
     "text": [
      "tensor([1, 2, 3, 4])\n",
      "torch.Size([4])\n",
      "\n",
      "\n",
      "tensor([[1, 2, 3, 4]])\n",
      "torch.Size([1, 4])\n",
      "\n",
      "\n",
      "tensor([[1],\n",
      "        [2],\n",
      "        [3],\n",
      "        [4]])\n",
      "torch.Size([4, 1])\n"
     ]
    }
   ],
   "source": [
    "tensor_1 = torch.tensor([1,2,3,4])\n",
    "tensor_a = torch.unsqueeze(tensor_1,0)\n",
    "\n",
    "print(tensor_1)\n",
    "print(tensor_1.shape)\n",
    "\n",
    "print(\"\\n\")\n",
    "print(tensor_a)\n",
    "print(tensor_a.shape)\n",
    "\n",
    "tensor_b = torch.unsqueeze(tensor_1,1)\n",
    "print(\"\\n\")\n",
    "print(tensor_b)\n",
    "print(tensor_b.shape)\n"
   ]
  },
  {
   "cell_type": "code",
   "execution_count": 60,
   "id": "b45bbc8f",
   "metadata": {},
   "outputs": [
    {
     "name": "stdout",
     "output_type": "stream",
     "text": [
      "tensor([[[0.9262, 0.2993, 0.1385, 0.8037],\n",
      "         [0.8454, 0.3926, 0.8003, 0.4646],\n",
      "         [0.4680, 0.9508, 0.2461, 0.1978]],\n",
      "\n",
      "        [[0.8093, 0.6057, 0.5924, 0.7403],\n",
      "         [0.0355, 0.2987, 0.0811, 0.4463],\n",
      "         [0.7509, 0.2297, 0.6220, 0.8597]]])\n",
      "\n",
      "\n",
      "tensor([[0.1385, 0.8003, 0.2461],\n",
      "        [0.5924, 0.0811, 0.6220]])\n",
      "torch.Size([2, 3])\n",
      "\n",
      "\n",
      "tensor([[[0.1385],\n",
      "         [0.8003],\n",
      "         [0.2461]],\n",
      "\n",
      "        [[0.5924],\n",
      "         [0.0811],\n",
      "         [0.6220]]])\n",
      "torch.Size([2, 3, 1])\n"
     ]
    }
   ],
   "source": [
    "tensor_2 = torch.rand(2,3,4)\n",
    "print(tensor_2)\n",
    "print('\\n')\n",
    "\n",
    "tensor_c = tensor_2[:,:,2]\n",
    "print(tensor_c)\n",
    "print(tensor_c.shape)\n",
    "print('\\n')\n",
    "\n",
    "tensor_d = torch.unsqueeze(tensor_c,2)\n",
    "print(tensor_d)\n",
    "print(tensor_d.shape)\n"
   ]
  },
  {
   "cell_type": "markdown",
   "id": "4e19b4a4",
   "metadata": {},
   "source": [
    "## AutoGrad"
   ]
  },
  {
   "cell_type": "code",
   "execution_count": 64,
   "id": "c49761dd",
   "metadata": {},
   "outputs": [
    {
     "name": "stdout",
     "output_type": "stream",
     "text": [
      "tensor([5., 7., 9.], grad_fn=<AddBackward0>)\n",
      "<AddBackward0 object at 0x000001EAD4D9BFA0>\n",
      "tensor(21., grad_fn=<SumBackward0>)\n",
      "<SumBackward0 object at 0x000001EAD4E6B550>\n",
      "tensor([1., 1., 1.])\n"
     ]
    }
   ],
   "source": [
    "x = torch.tensor([1., 2., 3], requires_grad = True)\n",
    "y = torch.tensor([4., 5., 6.], requires_grad = True)\n",
    "z = x+y\n",
    "print(z)\n",
    "print(z.grad_fn)\n",
    "\n",
    "s = z.sum()\n",
    "print(s)\n",
    "print(s.grad_fn)\n",
    "\n",
    "\n",
    "# Now if we backpropagate on s, we can find the gradients of s with respect to x\n",
    "s.backward()\n",
    "print(x.grad)"
   ]
  },
  {
   "cell_type": "code",
   "execution_count": 75,
   "id": "1c73fc6a",
   "metadata": {},
   "outputs": [
    {
     "name": "stdout",
     "output_type": "stream",
     "text": [
      "By default, tensors in PyTorch are created with requires_grad=False:  False False\n",
      "None\n",
      "After using requires_grad_(), we have:  <AddBackward0 object at 0x000001EAD4D9AA70>\n",
      "None\n",
      "True\n",
      "True\n",
      "False\n"
     ]
    }
   ],
   "source": [
    "x = torch.randn(2, 2)\n",
    "y = torch.randn(2, 2)\n",
    "print(\"By default, tensors in PyTorch are created with requires_grad=False: \", \n",
    "        x.requires_grad, y.requires_grad)\n",
    "\n",
    "z = x+y\n",
    "# So we can't backpropagation through z\n",
    "print(z.grad_fn)\n",
    "\n",
    "# Another way to set requires_grad = True is\n",
    "x.requires_grad_()\n",
    "y.requires_grad_()\n",
    "\n",
    "# Now z contains enough information to compute gradients\n",
    "z = x+y\n",
    "print(\"After using requires_grad_(), we have: \", z.grad_fn)\n",
    "\n",
    "# After using detach(), it return new_z but with the computation history forgotten\n",
    "new_z = z.detach()\n",
    "print(new_z.grad_fn)\n",
    "\n",
    "# You can also stop autograd from tracking history on Tensors\n",
    "print(x.requires_grad)\n",
    "print((x+10).requires_grad)\n",
    "\n",
    "# Stop autograd from tracking history on Tensors, using no_grad()\n",
    "with torch.no_grad():\n",
    "        print((x+10).requires_grad)\n",
    "\n"
   ]
  },
  {
   "cell_type": "markdown",
   "id": "93096aac",
   "metadata": {},
   "source": [
    "## Last example"
   ]
  },
  {
   "cell_type": "code",
   "execution_count": 76,
   "id": "97784c1d",
   "metadata": {},
   "outputs": [
    {
     "name": "stdout",
     "output_type": "stream",
     "text": [
      "tensor([[1., 1.],\n",
      "        [1., 1.]], requires_grad=True)\n",
      "tensor([[3., 3.],\n",
      "        [3., 3.]], grad_fn=<AddBackward0>)\n",
      "<AddBackward0 object at 0x000001EAD4D9AA70>\n",
      "tensor([[27., 27.],\n",
      "        [27., 27.]], grad_fn=<MulBackward0>) tensor(27., grad_fn=<MeanBackward0>)\n",
      "tensor([[4.5000, 4.5000],\n",
      "        [4.5000, 4.5000]])\n"
     ]
    }
   ],
   "source": [
    "x = torch.ones(2,2, requires_grad = True)\n",
    "print(x)\n",
    "y = x+2\n",
    "print(y)\n",
    "print(y.grad_fn)\n",
    "z = y * y * 3\n",
    "out = z.mean()\n",
    "print(z, out)\n",
    "out.backward()\n",
    "print(x.grad)"
   ]
  },
  {
   "cell_type": "markdown",
   "id": "c54185df",
   "metadata": {},
   "source": [
    "# II. Loss Functions"
   ]
  },
  {
   "cell_type": "code",
   "execution_count": 81,
   "id": "f334e47b",
   "metadata": {},
   "outputs": [
    {
     "name": "stdout",
     "output_type": "stream",
     "text": [
      "tensor([[ 1.2673, -0.8655,  0.1251, -0.4936, -1.1254],\n",
      "        [ 0.2635, -0.9821,  0.6131, -0.5852, -1.5594],\n",
      "        [ 0.2608, -0.0604, -0.1067,  0.0763, -0.4698],\n",
      "        [ 0.5099,  1.4516,  0.2204, -1.9625,  0.0094]])\n",
      "tensor([[ 1.4995,  0.2799,  0.2828,  1.8933,  0.7397],\n",
      "        [ 0.0663,  1.8302, -1.8160, -0.8025,  1.5524],\n",
      "        [-0.3312, -2.1019, -0.5141, -1.0282,  2.0092],\n",
      "        [-0.1015,  0.1727,  0.4527, -1.0148, -0.3101]])\n"
     ]
    }
   ],
   "source": [
    "import torch\n",
    "import torch.nn as nn\n",
    "\n",
    "prediction = torch.randn(4,5)\n",
    "label = torch.randn(4,5)\n",
    "\n",
    "print(prediction)\n",
    "print(label)"
   ]
  },
  {
   "cell_type": "markdown",
   "id": "0e2c7063",
   "metadata": {},
   "source": [
    "## MSE with none, sum and mean"
   ]
  },
  {
   "cell_type": "code",
   "execution_count": null,
   "id": "9d35b571",
   "metadata": {},
   "outputs": [
    {
     "name": "stdout",
     "output_type": "stream",
     "text": [
      "tensor([[0.0539, 1.3119, 0.0249, 5.6973, 3.4789],\n",
      "        [0.0389, 7.9088, 5.9009, 0.0472, 9.6833],\n",
      "        [0.3504, 4.1676, 0.1660, 1.2199, 6.1457],\n",
      "        [0.3738, 1.6356, 0.0540, 0.8982, 0.1021]])\n",
      "tensor(49.2594)\n",
      "tensor(2.4630)\n",
      "tensor(2.4630)\n"
     ]
    }
   ],
   "source": [
    "no_mse = nn.MSELoss(reduction='none')\n",
    "loss = no_mse(prediction, label)\n",
    "print(loss)\n",
    "# We can see that the first element is 0.0539, which is equivalent to (1.2673 - 1.4995)^2\n",
    "\n",
    "sum_mse = nn.MSELoss(reduction='sum')\n",
    "loss = sum_mse(prediction, label)\n",
    "print(loss)\n",
    "\n",
    "mean_mse = nn.MSELoss(reduction='mean')\n",
    "loss = mean_mse(prediction, label)\n",
    "print(loss)\n",
    "# This is just the mean of loss from sum_mse: 49.2594/20 = 2.46297 ~ 2.4630\n",
    "\n",
    "# Code scratch the Mean-MSE\n",
    "loss = ((prediction-label)**2).mean()\n",
    "print(loss)\n",
    "# Now they have the same value 2.4630"
   ]
  },
  {
   "cell_type": "markdown",
   "id": "4f41a53a",
   "metadata": {},
   "source": [
    "## Binary Cross Entropy"
   ]
  },
  {
   "cell_type": "code",
   "execution_count": 99,
   "id": "d19f2965",
   "metadata": {},
   "outputs": [
    {
     "name": "stdout",
     "output_type": "stream",
     "text": [
      "tensor([[ 1.2673, -0.8655,  0.1251, -0.4936, -1.1254],\n",
      "        [ 0.2635, -0.9821,  0.6131, -0.5852, -1.5594],\n",
      "        [ 0.2608, -0.0604, -0.1067,  0.0763, -0.4698],\n",
      "        [ 0.5099,  1.4516,  0.2204, -1.9625,  0.0094]])\n",
      "tensor([[0., 0., 0., 0., 1.],\n",
      "        [1., 0., 0., 0., 1.],\n",
      "        [0., 0., 1., 0., 1.],\n",
      "        [1., 0., 1., 1., 1.]])\n",
      "tensor(0.9035)\n",
      "tensor(0.9035)\n"
     ]
    }
   ],
   "source": [
    "print(prediction)\n",
    "\n",
    "label = torch.zeros(4,5).random_(0,2)\n",
    "print(label)\n",
    "\n",
    "# BCE Loss with 'mean'\n",
    "sigmoid = nn.Sigmoid() \n",
    "bce = nn.BCELoss(reduction = 'mean')\n",
    "loss = bce(sigmoid(prediction), label)\n",
    "print(loss)\n",
    "\n",
    "\n",
    "# BCE Loss with Logistic Loss\n",
    "bces = nn.BCEWithLogitsLoss(reduction = 'mean')\n",
    "loss = bces(prediction, label)\n",
    "print(loss)"
   ]
  },
  {
   "cell_type": "code",
   "execution_count": 101,
   "id": "036ae334",
   "metadata": {},
   "outputs": [
    {
     "name": "stdout",
     "output_type": "stream",
     "text": [
      "0.9034561\n"
     ]
    }
   ],
   "source": [
    "import numpy as np\n",
    "x = prediction.numpy()\n",
    "y = label.numpy()\n",
    "\n",
    "def sigmoid(x):\n",
    "    return 1 / (1+np.exp(-x))\n",
    "\n",
    "x = sigmoid(x)\n",
    "loss_values = []\n",
    "for i in range(len(y)):\n",
    "    batch_loss = []\n",
    "    for j in range(len(y[0])):\n",
    "        batch_loss.append(-np.log(x[i][j]) if y[i][j] == 1 else -np.log(1-x[i][j])) \n",
    "    loss_values.append(batch_loss) \n",
    "\n",
    "print(np.mean(loss_values))"
   ]
  },
  {
   "cell_type": "markdown",
   "id": "d15ae2a5",
   "metadata": {},
   "source": [
    "# III. Weight Initialization"
   ]
  },
  {
   "cell_type": "code",
   "execution_count": 105,
   "id": "08b5dcfd",
   "metadata": {},
   "outputs": [
    {
     "name": "stdout",
     "output_type": "stream",
     "text": [
      "tensor([[-0.0215,  0.1963,  0.3914,  0.4234, -0.4362],\n",
      "        [ 0.0783, -0.3784,  0.2861, -0.2704,  0.2766],\n",
      "        [-0.3024, -0.2893,  0.0576, -0.1063,  0.0171],\n",
      "        [-0.4054,  0.3422,  0.2060, -0.1284, -0.2087],\n",
      "        [-0.2232,  0.4160, -0.4102,  0.2103, -0.1946]])\n",
      "tensor([[0.7129, 2.8142, 2.1510, 0.0769, 1.7592],\n",
      "        [2.6224, 0.5557, 2.7480, 2.9759, 2.7838],\n",
      "        [0.7591, 1.0135, 2.8390, 0.9291, 0.0162],\n",
      "        [1.8795, 0.6520, 2.1927, 0.7616, 0.6316],\n",
      "        [0.5401, 2.3795, 0.3415, 0.8574, 1.9155]])\n",
      "Parameter containing:\n",
      "tensor([[1.8504, 0.8965, 2.2543, 1.3662, 2.0741],\n",
      "        [1.9128, 0.7405, 2.9246, 0.5192, 0.7867],\n",
      "        [1.4747, 2.2198, 2.7232, 0.8911, 1.2978],\n",
      "        [1.1615, 0.9000, 0.2711, 2.5292, 2.3769],\n",
      "        [2.8431, 1.9656, 2.6902, 1.2760, 1.0407]], requires_grad=True)\n"
     ]
    }
   ],
   "source": [
    "import torch\n",
    "import torch.nn as nn\n",
    "\n",
    "layer = nn.Linear(5,5)\n",
    "print(layer.weight.data)\n",
    "\n",
    "nn.init.uniform_(layer.weight.data, a = 0.0, b=3)\n",
    "print(layer.weight.data)\n",
    "\n",
    "nn.init.uniform_(layer.weight, a = 0.0, b=3)\n",
    "print(layer.weight)"
   ]
  },
  {
   "cell_type": "code",
   "execution_count": 106,
   "id": "264c6d0d",
   "metadata": {},
   "outputs": [
    {
     "data": {
      "text/plain": [
       "Parameter containing:\n",
       "tensor([[-0.8022,  1.0612,  0.5589,  1.4273,  0.3788],\n",
       "        [-1.5489, -0.5868, -1.1909,  0.5178, -1.0984],\n",
       "        [-2.0589, -1.0587, -0.2300, -0.3395, -0.3609],\n",
       "        [ 1.0487, -0.0720,  0.4155, -0.3796,  0.2537],\n",
       "        [-1.2655,  1.3204,  0.3215,  0.0781,  0.2190]], requires_grad=True)"
      ]
     },
     "execution_count": 106,
     "metadata": {},
     "output_type": "execute_result"
    }
   ],
   "source": [
    "nn.init.normal_(layer.weight, mean = 0.0, std = 1.0)"
   ]
  },
  {
   "cell_type": "code",
   "execution_count": 110,
   "id": "6cc0ba1d",
   "metadata": {},
   "outputs": [
    {
     "name": "stdout",
     "output_type": "stream",
     "text": [
      "Parameter containing:\n",
      "tensor([0., 0., 0., 0., 0.], requires_grad=True)\n"
     ]
    }
   ],
   "source": [
    "nn.init.constant_(layer.bias, 0) \n",
    "# This kind of initialization is usually used for bias\n",
    "print(layer.bias)"
   ]
  },
  {
   "cell_type": "code",
   "execution_count": 111,
   "id": "de604984",
   "metadata": {},
   "outputs": [
    {
     "data": {
      "text/plain": [
       "Parameter containing:\n",
       "tensor([[ 0.6007,  0.7513, -0.5607,  0.7500,  0.6381],\n",
       "        [ 0.4800, -0.2689,  0.4441,  0.2290,  0.3702],\n",
       "        [-0.2814,  0.3258, -0.5368, -0.4653, -0.5996],\n",
       "        [-0.2879, -0.0259,  0.3419, -0.4931, -0.5078],\n",
       "        [ 0.7465, -0.0620, -0.7498, -0.1778, -0.0064]], requires_grad=True)"
      ]
     },
     "execution_count": 111,
     "metadata": {},
     "output_type": "execute_result"
    }
   ],
   "source": [
    "torch.nn.init.xavier_uniform_(layer.weight, gain=1.0)"
   ]
  },
  {
   "cell_type": "code",
   "execution_count": null,
   "id": "f9ca7b32",
   "metadata": {},
   "outputs": [
    {
     "name": "stdout",
     "output_type": "stream",
     "text": [
      "tensor(0.4119, grad_fn=<StdBackward0>)\n"
     ]
    }
   ],
   "source": [
    "torch.nn.init.xavier_normal_(layer.weight, gain=1.0)\n",
    "print(layer.weight.std())\n",
    "\n",
    "# Note that sqrt(2/(n_in + n_out)) = sqrt(1/5) = 0.447"
   ]
  }
 ],
 "metadata": {
  "kernelspec": {
   "display_name": "base",
   "language": "python",
   "name": "python3"
  },
  "language_info": {
   "codemirror_mode": {
    "name": "ipython",
    "version": 3
   },
   "file_extension": ".py",
   "mimetype": "text/x-python",
   "name": "python",
   "nbconvert_exporter": "python",
   "pygments_lexer": "ipython3",
   "version": "3.13.5"
  }
 },
 "nbformat": 4,
 "nbformat_minor": 5
}
